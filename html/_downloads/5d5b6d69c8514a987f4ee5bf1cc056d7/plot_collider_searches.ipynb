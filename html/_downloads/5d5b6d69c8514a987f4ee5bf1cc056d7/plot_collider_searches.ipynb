{
  "cells": [
    {
      "cell_type": "markdown",
      "metadata": {},
      "source": [
        "\n# Direct detection\n\nCalculate various direct detection observables.\n"
      ]
    },
    {
      "cell_type": "code",
      "execution_count": null,
      "metadata": {
        "collapsed": false
      },
      "outputs": [],
      "source": [
        "import matplotlib.pyplot as plt\nimport numpy as np\nfrom singletscalar_dm import *"
      ]
    },
    {
      "cell_type": "markdown",
      "metadata": {},
      "source": [
        "The constraints from collider searches are calculated using the upper limits on the contribution of invisible Higgs decay. \nThe package calculates the branching ratio in invibile decay with the function `Gamma_inv`.\n\n"
      ]
    },
    {
      "cell_type": "code",
      "execution_count": null,
      "metadata": {
        "collapsed": false
      },
      "outputs": [],
      "source": [
        "gamma_inv = Gamma_inv(50,0.01)\nprint(gamma_inv)"
      ]
    },
    {
      "cell_type": "markdown",
      "metadata": {},
      "source": [
        "In the following, we show how to compute the upper limits using collider data.\n\n"
      ]
    },
    {
      "cell_type": "code",
      "execution_count": null,
      "metadata": {
        "collapsed": false
      },
      "outputs": [],
      "source": [
        "Gamma_inv_measured = 0.170\nGamma_inv_future = 0.025\nmh = 125\nGamma_H_SM = 3.8e-3 # GeV\n\nDMmass_vec = np.linspace(10.,mh/2.,1000)\nLambda_current_vec = np.zeros(len(DMmass_vec))\nLambda_future_vec = np.zeros(len(DMmass_vec))\nBr_value = Gamma_inv_measured\nfor t in range(len(DMmass_vec)):\n    Lambda_current_vec[t] = minimize_br_inv(DMmass_vec[t],Gamma_H_SM,Gamma_inv_measured)\n    Lambda_future_vec[t] = minimize_br_inv(DMmass_vec[t],Gamma_H_SM,Gamma_inv_future)"
      ]
    },
    {
      "cell_type": "code",
      "execution_count": null,
      "metadata": {
        "collapsed": false
      },
      "outputs": [],
      "source": [
        "table_newB = np.loadtxt(import_data_file('bounds_collider_SHP_current.dat'))\ntable_newB_p = np.loadtxt(import_data_file('bounds_collider_SHP_projection.dat'))"
      ]
    },
    {
      "cell_type": "code",
      "execution_count": null,
      "metadata": {
        "collapsed": false
      },
      "outputs": [],
      "source": [
        "fig = plt.figure(figsize=(8,6))\nplt.plot(DMmass_vec,Lambda_current_vec,lw=2.0,ls='--',color='blue',label=r'ATLAS+2020, Analytic')\nplt.plot(table_newB[:,0],table_newB[:,1],lw=2.5,ls='--',color='black',label=r'ATLAS+2020')\nplt.plot(table_newB_p[:,0],table_newB_p[:,4],lw=2.0,ls='-.',color='red',label=r'14 TeV HL-LHC')\nplt.plot(table_newB_p[:,0],table_newB_p[:,5],lw=2.0,ls=':',color='orange',label=r'27 TeV HL-LHC')\nplt.xlabel(r'$m_{S}$ [GeV]', fontsize=20)\nplt.ylabel(r'$\\lambda_{HS}$', fontsize=20)\nplt.axis([10,100,1e-4,1e1])\nplt.xticks(fontsize=20)\nplt.yticks(fontsize=20)\nplt.tick_params('both', length=8, width=3, which='major')\nplt.tick_params('both', length=6, width=3, which='minor')\nplt.grid(True)\nplt.yscale('log')\nplt.xscale('linear')\nplt.legend(loc=4,prop={'size':16},numpoints=1, scatterpoints=1, ncol=2)\nfig.tight_layout(pad=0.5)\nplt.show()"
      ]
    }
  ],
  "metadata": {
    "kernelspec": {
      "display_name": "Python 3",
      "language": "python",
      "name": "python3"
    },
    "language_info": {
      "codemirror_mode": {
        "name": "ipython",
        "version": 3
      },
      "file_extension": ".py",
      "mimetype": "text/x-python",
      "name": "python",
      "nbconvert_exporter": "python",
      "pygments_lexer": "ipython3",
      "version": "3.7.16"
    }
  },
  "nbformat": 4,
  "nbformat_minor": 0
}