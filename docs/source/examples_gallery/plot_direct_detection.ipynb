{
  "cells": [
    {
      "cell_type": "markdown",
      "metadata": {},
      "source": [
        "\n# Direct detection\n\nCalculate various direct detection observables.\n"
      ]
    },
    {
      "cell_type": "code",
      "execution_count": null,
      "metadata": {
        "collapsed": false
      },
      "outputs": [],
      "source": [
        "import matplotlib.pyplot as plt\nimport numpy as np\nfrom scipy.interpolate import interp1d\nfrom singletscalar_dm import *"
      ]
    },
    {
      "cell_type": "markdown",
      "metadata": {},
      "source": [
        "The direct detection part is calculated using the function `SI_noomega`.\nThis function performs the calculation of the spin independent cross section analytically assuming that $f_N=0.297$.\nIn the following, we sho the calculation of the spin independent cross section for a specific value of DM mass and coupling. \n\n"
      ]
    },
    {
      "cell_type": "code",
      "execution_count": null,
      "metadata": {
        "collapsed": false
      },
      "outputs": [],
      "source": [
        "mS = 70 # GeV\nlambda_hs = 0.01\nSI_noomega(mS,lambda_hs)"
      ]
    },
    {
      "cell_type": "markdown",
      "metadata": {},
      "source": [
        "Instead, in order to find the upper limits for $\\lambda_{HS}$, you can use the function `GetUL_DD_Mine_nomega`.\nThe example below calculates the upper limits for $\\lambda_{HS}$ for the LZ and future DARWIN experiments.\n\n"
      ]
    },
    {
      "cell_type": "code",
      "execution_count": null,
      "metadata": {
        "collapsed": false
      },
      "outputs": [],
      "source": [
        "DMmassDD_vec = np.logspace(np.log10(2.),4.,100)\nLambdaDD_LZ_HS_vec = np.zeros(len(DMmassDD_vec))\nLambdaDD_Darwin_HS_vec = np.zeros(len(DMmassDD_vec))\nfor t in range(len(DMmassDD_vec)):\n    LambdaDD_LZ_HS_vec[t] = GetUL_DD_nomega(DMmassDD_vec[t],'LZ')\n    LambdaDD_Darwin_HS_vec[t] = GetUL_DD_nomega(DMmassDD_vec[t],'DARWIN')"
      ]
    },
    {
      "cell_type": "code",
      "execution_count": null,
      "metadata": {
        "collapsed": false
      },
      "outputs": [],
      "source": [
        "fig = plt.figure(figsize=(8,6))\nplt.plot(DMmassDD_vec[18:],LambdaDD_LZ_HS_vec[18:],lw=3.0,ls='--',color='black',label=r'DD, LZ+2022')\nplt.fill_between(DMmassDD_vec[18:],(0.3/0.2)*LambdaDD_LZ_HS_vec[18:],(0.3/0.6)*LambdaDD_LZ_HS_vec[18:],alpha=0.5,color='grey')\nplt.plot(DMmassDD_vec[18:],1e-10*(0.3/0.2)*LambdaDD_LZ_HS_vec[18:],lw=5.0,alpha=0.5,color='grey',label=r'LZ, $\\rho_{\\odot}=[0.2,0.6]$ GeV/cm$^3$')\nplt.plot(DMmassDD_vec[11:],LambdaDD_Darwin_HS_vec[11:],lw=3.0,ls='--',color='red',label=r'DD, DARWIN proj.')\nplt.xlabel(r'$m_S$ [GeV]', fontsize=20)\nplt.ylabel(r'$\\lambda_{\\rm{HS}}$', fontsize=20)\nplt.axis([5,1e4,1e-4,1e1])\nplt.xticks(fontsize=20)\nplt.yticks(fontsize=20)\nplt.tick_params('both', length=8, width=3, which='major')\nplt.tick_params('both', length=6, width=3, which='minor')\nplt.grid(True)\nplt.yscale('log')\nplt.xscale('log')\nplt.legend(loc=2,prop={'size':16},numpoints=1, scatterpoints=1, ncol=1)\nfig.tight_layout(pad=0.5)\nplt.show()"
      ]
    },
    {
      "cell_type": "markdown",
      "metadata": {},
      "source": [
        "It is also possible to calculate the direct detection constraints including the rescaling due to the density of dark matter of the $S$ particles.\nFirst, we calculate the $\\xi$ term which is the relative ratio of $S$ particle density over the total dark matter one.\n\n"
      ]
    },
    {
      "cell_type": "code",
      "execution_count": null,
      "metadata": {
        "collapsed": false
      },
      "outputs": [],
      "source": [
        "Omegah2_best = 0.120\n\ntable = np.loadtxt(import_data_file('Omega_MICROMEGAs_zoom_paper.dat'))\n\nLambda_vec = np.logspace(-5,1,500)\ncsi_vec = np.zeros(len(MassDD_vec)*len(Lambda_vec))\n\ncont = 0\nfor t in range(len(MassDD_vec)):\n    for u in range(len(Lambda_vec)):\n        if table[cont,2]<0.:\n            table[cont,2] = 1e6\n        csi_vec[cont] = table[cont,2]/Omegah2_best\n        cont = cont + 1\n\nprint(csi_vec)\n\nval = GetUL_DD_withomega(60,Lambda_vec,MassDD_vec,csi_vec,'LZ')\nprint(val)"
      ]
    },
    {
      "cell_type": "markdown",
      "metadata": {},
      "source": [
        "The we use the function `GetUL_DD` to get the upper limits including also the relic density of $S$.\n\n"
      ]
    },
    {
      "cell_type": "code",
      "execution_count": null,
      "metadata": {
        "collapsed": false
      },
      "outputs": [],
      "source": [
        "LambdaDD_LZ_HS_vec = np.zeros(len(MassDD_vec))\nLambdaDD_Darwin_HS_vec = np.zeros(len(MassDD_vec))\nfor t in range(len(MassDD_vec)):\n    LambdaDD_LZ_HS_vec[t] = GetUL_DD_withomega(MassDD_vec[t],Lambda_vec,MassDD_vec,csi_vec,'LZ')\n    LambdaDD_Darwin_HS_vec[t] = GetUL_DD_withomega(MassDD_vec[t],Lambda_vec,MassDD_vec,csi_vec,'Darwin')"
      ]
    },
    {
      "cell_type": "code",
      "execution_count": null,
      "metadata": {
        "collapsed": false
      },
      "outputs": [],
      "source": [
        "table_RD_FB = np.loadtxt(import_data_file('DRAKE_omega_fBE_QCDB_paper.dat'))\nmass_RD_FBQCDB = table_RD_FB[:,0]\nlambda_RD_FBQCDB = table_RD_FB[:,1]\n\nfuncint_RD = interp1d(mass_RD_FBQCDB,lambda_RD_FBQCDB)\nfor t in range(len(MassDD_vec)):\n    if funcint_RD(MassDD_vec[t])>LambdaDD_LZ_HS_vec[t]:\n        LambdaDD_LZ_HS_vec[t]=funcint_RD(MassDD_vec[t])\n    if funcint_RD(MassDD_vec[t])>LambdaDD_Darwin_HS_vec[t]:\n        LambdaDD_Darwin_HS_vec[t]=funcint_RD(MassDD_vec[t])"
      ]
    },
    {
      "cell_type": "code",
      "execution_count": null,
      "metadata": {
        "collapsed": false
      },
      "outputs": [],
      "source": [
        "fig = plt.figure(figsize=(8,6))\nplt.fill_between(mass_RD_FBQCDB,lambda_RD_FBQCDB*1e-6,lambda_RD_FBQCDB*1.05,color='grey')\nplt.fill_between(MassDD_vec,funcint_RD(MassDD_vec),LambdaDD_LZ_HS_vec,lw=2.0,alpha=0.5,color='green')\nplt.fill_between(MassDD_vec,funcint_RD(MassDD_vec),LambdaDD_Darwin_HS_vec,lw=2.0,alpha=0.2,color='orange')\nplt.plot(MassDD_vec,LambdaDD_LZ_HS_vec,lw=3.0,ls='-',color='darkgreen',label=r'LZ+2022')\nplt.plot(MassDD_vec,LambdaDD_Darwin_HS_vec,lw=2.0,ls='-.',color='red',label=r'DARWIN PROJ.')\nplt.plot(mass_RD_FBQCDB,lambda_RD_FBQCDB,lw=2.0,ls=':',color='blue', label=r'$\\Omega_{S}h^2=0.12}$')\nplt.text(54.2,0.05,r'$\\Omega_{S}h^2<0.12}$',color='blue', fontsize=16)\nplt.text(54.2,0.003,r'$\\Omega_{S}h^2>0.12}$',color='blue', fontsize=16)\nplt.xlabel(r'$m_{\\rm{S}}$ [GeV]', fontsize=20)\nplt.ylabel(r'$\\lambda_{\\rm{HS}}$', fontsize=20)\nplt.axis([54,64,1e-4,1e1])\nplt.xticks(fontsize=20)\nplt.yticks(fontsize=20)\nplt.tick_params('both', length=8, width=3, which='major')\nplt.tick_params('both', length=6, width=3, which='minor')\nplt.grid(True)\nplt.yscale('log')\nplt.xscale('linear')\nplt.legend(loc=2,prop={'size':16},numpoints=1, scatterpoints=1, ncol=1)\nfig.tight_layout(pad=0.5)\nplt.show()"
      ]
    }
  ],
  "metadata": {
    "kernelspec": {
      "display_name": "Python 3",
      "language": "python",
      "name": "python3"
    },
    "language_info": {
      "codemirror_mode": {
        "name": "ipython",
        "version": 3
      },
      "file_extension": ".py",
      "mimetype": "text/x-python",
      "name": "python",
      "nbconvert_exporter": "python",
      "pygments_lexer": "ipython3",
      "version": "3.7.16"
    }
  },
  "nbformat": 4,
  "nbformat_minor": 0
}