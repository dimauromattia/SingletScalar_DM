{
  "cells": [
    {
      "cell_type": "markdown",
      "metadata": {},
      "source": [
        "\n# Relic density calculations\n\nCalculate the relic density of the model.\n"
      ]
    },
    {
      "cell_type": "code",
      "execution_count": null,
      "metadata": {
        "collapsed": false
      },
      "outputs": [],
      "source": [
        "import matplotlib.pyplot as plt\nimport numpy as np\nfrom singletscalar_dm import *"
      ]
    },
    {
      "cell_type": "markdown",
      "metadata": {},
      "source": [
        "In order to calculate the relic density it is possible to use the function `interpolate_Omega`, which uses the code DRAKE near the Higgs resonance and MicrOMEGAs elsewhere.\nFor example, let's compute the relic density, expressed as $\\Omega h^2$ for the QCDA model.\n\n"
      ]
    },
    {
      "cell_type": "code",
      "execution_count": null,
      "metadata": {
        "collapsed": false
      },
      "outputs": [],
      "source": [
        "mS = 50 # GeV\nlambda_hs = 0.1\nomegah2 = interpolate_Omega(mS,lambda_hs,'QCDA')\nprint(omegah2)"
      ]
    },
    {
      "cell_type": "markdown",
      "metadata": {},
      "source": [
        "In the following, we compute the relic density using only MicrOMEGAs.\n\n"
      ]
    },
    {
      "cell_type": "code",
      "execution_count": null,
      "metadata": {
        "collapsed": false
      },
      "outputs": [],
      "source": [
        "mS = 50 # GeV\nlambda_hs = 0.1\nomegah2_micromegas = interpolate_Omega_MicrOMEGAs(mS,lambda_hs)\nprint(omegah2_micromegas)"
      ]
    },
    {
      "cell_type": "markdown",
      "metadata": {},
      "source": [
        "As expected the results obtained with the functions `interpolate_Omega` and `interpolate_Omega_MicrOMEGAs` are similar for the mass point tested above.\nHowever, if we test masses close to the Higgs resonance the differences emerge:\n\n"
      ]
    },
    {
      "cell_type": "code",
      "execution_count": null,
      "metadata": {
        "collapsed": false
      },
      "outputs": [],
      "source": [
        "mS = 60 # GeV\nlambda_hs = 0.001\nomegah2 = interpolate_Omega(mS,lambda_hs,'QCDA')\nomegah2_micromegas = interpolate_Omega_MicrOMEGAs(mS,lambda_hs)\nprint(omegah2)\nprint(omegah2_micromegas)"
      ]
    },
    {
      "cell_type": "markdown",
      "metadata": {},
      "source": [
        "The calculation of the relic density close to the resonance with DRAKE has been done for `lambda_hs` values between 1 and two orders of magnitude below and above the value that gives the correct relic abundance.\nIf one tries to calculate the relic density with DRAKE beyond this region a warning will be printed.\n\n"
      ]
    },
    {
      "cell_type": "code",
      "execution_count": null,
      "metadata": {
        "collapsed": false
      },
      "outputs": [],
      "source": [
        "mS = 60 # GeV\nlambda_hs = 0.1\nomegah2 = interpolate_Omega(mS,lambda_hs,'QCDA')\nprint(omegah2)"
      ]
    },
    {
      "cell_type": "markdown",
      "metadata": {},
      "source": [
        "Note that the precomputed results with DRAKE have been done to cover the region which gives the right relic abundance, so investigating region beyond the tested one is not recommended.\nIt is also possible to find the $\\lambda_{HS}$ value which provides a give relic density.\nIn order to do that you can use the function `interpolate_lambda`\n\n"
      ]
    },
    {
      "cell_type": "code",
      "execution_count": null,
      "metadata": {
        "collapsed": false
      },
      "outputs": [],
      "source": [
        "mS = 60 # GeV\nOmegah2 = 0.1\nlambda_hs = interpolate_lambda(mS,Omegah2,'QCDB')\nprint(lambda_hs)"
      ]
    },
    {
      "cell_type": "markdown",
      "metadata": {},
      "source": [
        "Note that for dark matter masses below 70 GeV and $\\lambda_{HS}$ values larger than 1 the relic density have a turning point.\nSee the following plot.\n\n"
      ]
    },
    {
      "cell_type": "code",
      "execution_count": null,
      "metadata": {
        "collapsed": false
      },
      "outputs": [],
      "source": [
        "mass = 45\nlambda_vec = np.logspace(-4.,2.,50)\nomegah2_vec = np.zeros(len(lambda_vec))\nfor t in range(len(lambda_vec)):\n    omegah2_vec[t] = interpolate_Omega_MicrOMEGAs(mass,lambda_vec[t])"
      ]
    },
    {
      "cell_type": "code",
      "execution_count": null,
      "metadata": {
        "collapsed": false
      },
      "outputs": [],
      "source": [
        "fig = plt.figure(figsize=(8,6))\nplt.plot(lambda_vec,omegah2_vec,lw=1.5,ls='-',color='black',label='$m_S=45$ GeV')\nplt.ylabel(r'$\\Omega h^2$', fontsize=18)\nplt.xlabel(r'$\\lambda_{HS}$', fontsize=18)\nplt.axis([1e-4,100,1e-4,1e2])\nplt.xticks(fontsize=16)\nplt.yticks(fontsize=16)\nplt.grid(True)\nplt.yscale('log')\nplt.xscale('log') \nplt.legend(loc=4,prop={'size':14},numpoints=1, scatterpoints=1, ncol=1)\nfig.tight_layout(pad=0.5)\nplt.show()"
      ]
    },
    {
      "cell_type": "markdown",
      "metadata": {},
      "source": [
        "This implies that for $m_S < 70$ GeV there could be two possible for the $\\lambda_{HS}$ which gives a value of the relic density.\nThe code prints a warning if this is the case.\nSee example below.\n\n"
      ]
    },
    {
      "cell_type": "code",
      "execution_count": null,
      "metadata": {
        "collapsed": false
      },
      "outputs": [],
      "source": [
        "mS = 30 # GeV\nOmegah2 = 0.001\nlambda_hs = interpolate_lambda(mS,Omegah2,'QCDB')\nprint(lambda_hs)"
      ]
    },
    {
      "cell_type": "code",
      "execution_count": null,
      "metadata": {
        "collapsed": false
      },
      "outputs": [],
      "source": [
        "mS = 70 # GeV\nlambda_hs = 0.80952387\nlambda_hs = interpolate_Omega(mS,lambda_hs,'QCDA')\nprint(lambda_hs)"
      ]
    },
    {
      "cell_type": "markdown",
      "metadata": {},
      "source": [
        "In the following, we will generate a plot with the values of $m_S$ and $\\lambda_{HS}$ which provide 100% or 30% of the relic density, showing the calculations performed with the QCDA and QCDB models and with MicrOMEGAs. \n\n"
      ]
    },
    {
      "cell_type": "code",
      "execution_count": null,
      "metadata": {
        "collapsed": false
      },
      "outputs": [],
      "source": [
        "mass_vec = np.logspace(1.,3.,100)\nlambda_QCDA_100_vec = np.zeros(len(mass_vec))\nlambda_QCDB_100_vec = np.zeros(len(mass_vec))\nlambda_QCDB_30_vec = np.zeros(len(mass_vec))\nlambda_Micro_100_vec = np.zeros(len(mass_vec))\nfor t in range(len(mass_vec)):\n    lambda_QCDA_100_vec[t] = interpolate_lambda(mass_vec[t],Omegah2,'QCDA')\n    lambda_QCDB_100_vec[t] = interpolate_lambda(mass_vec[t],Omegah2,'QCDB')\n    lambda_QCDB_30_vec[t] = interpolate_lambda(mass_vec[t],0.1*Omegah2,'QCDB')\n    lambda_Micro_100_vec[t] = interpolate_lambda_MicrOMEGAs(mass_vec[t],Omegah2)"
      ]
    },
    {
      "cell_type": "code",
      "execution_count": null,
      "metadata": {
        "collapsed": false
      },
      "outputs": [],
      "source": [
        "fig = plt.figure(figsize=(8,6))\nplt.plot(mass_vec,lambda_QCDA_100_vec,lw=1.5,ls='--',color='black',label='DRAKE QCDA, $\\Omega h^2=0.12$')\nplt.plot(mass_vec,lambda_QCDB_100_vec,lw=1.5,ls='-',color='blue',label='DRAKE QCDA, $\\Omega h^2=0.12$')\nplt.plot(mass_vec,lambda_QCDB_30_vec,lw=1.5,ls=':',color='red',label='DRAKE QCDB, $\\Omega h^2=0.012$')\nplt.plot(mass_vec,lambda_Micro_100_vec,lw=1.5,ls='-.',color='green', label=r'MicroOMEGA, $\\Omega h^2=0.12$')\nplt.ylabel(r'$\\lambda_{HS}$', fontsize=18)\nplt.xlabel(r'$m_{S}$ [GeV]', fontsize=18)\nplt.axis([10.,1000,1e-4,2e0])\nplt.xticks(fontsize=16)\nplt.yticks(fontsize=16)\nplt.grid(True)\nplt.yscale('log')\nplt.xscale('log') \nplt.legend(loc=4,prop={'size':14},numpoints=1, scatterpoints=1, ncol=1)\nfig.tight_layout(pad=0.5)\nplt.show()"
      ]
    },
    {
      "cell_type": "markdown",
      "metadata": {},
      "source": [
        "The parameters $m_S$ and $lambda_{HS}$ which provide the right relic abundance are reported in the file `Omega_MicroOMEGAs_DRAKE_QCDB_QCDA.dat`, which can be imported through the module `importlib`.\n\n"
      ]
    },
    {
      "cell_type": "code",
      "execution_count": null,
      "metadata": {
        "collapsed": false
      },
      "outputs": [],
      "source": [
        "from importlib.resources import files\nomega_drake_micromegas = files('singletscalar_dm.data').joinpath('Omega_MicroOMEGAs_DRAKE_QCDB_QCDA.dat')\ntable = np.loadtxt(omega_drake_micromegas)\nmass_RD = table[:,0]\nlambda_RD_FBQCDA = table[:,1]\nlambda_RD_FBQCDB = table[:,2]\nfig = plt.figure(figsize=(8,6))\nplt.fill_between(mass_RD,lambda_RD_FBQCDA,lambda_RD_FBQCDB,color='cyan',alpha=0.5)\nplt.plot(mass_RD,lambda_RD_FBQCDA,lw=2.5,ls='-.',color='black', label=r'DRAKE fBE, $QCD_A$')\nplt.plot(mass_RD,lambda_RD_FBQCDB,lw=2.5,ls=':',color='grey', label=r'DRAKE fBE, $QCD_B$')\nplt.ylabel(r'$\\lambda_{HS}$', fontsize=18)\nplt.xlabel(r'$m_{S}$ [GeV]', fontsize=18)\nplt.axis([50.,70,1e-4,1e-1])\nplt.xticks(fontsize=16)\nplt.yticks(fontsize=16)\nplt.grid(True)\nplt.yscale('log')\nplt.xscale('linear') \nplt.legend(loc=4,prop={'size':12},numpoints=1, scatterpoints=1, ncol=1)\nfig.tight_layout(pad=0.5)\nplt.show()"
      ]
    }
  ],
  "metadata": {
    "kernelspec": {
      "display_name": "Python 3",
      "language": "python",
      "name": "python3"
    },
    "language_info": {
      "codemirror_mode": {
        "name": "ipython",
        "version": 3
      },
      "file_extension": ".py",
      "mimetype": "text/x-python",
      "name": "python",
      "nbconvert_exporter": "python",
      "pygments_lexer": "ipython3",
      "version": "3.10.10"
    }
  },
  "nbformat": 4,
  "nbformat_minor": 0
}