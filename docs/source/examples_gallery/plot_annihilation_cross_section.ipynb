{
  "cells": [
    {
      "cell_type": "markdown",
      "metadata": {},
      "source": [
        "\n# Annihilation cross section\n\nCalculate the annihilation cross section, $\\langle \\sigma v \\rangle$ for the various annihilation channels of the model.\n"
      ]
    },
    {
      "cell_type": "code",
      "execution_count": null,
      "metadata": {
        "collapsed": false
      },
      "outputs": [],
      "source": [
        "import matplotlib.pyplot as plt\nimport numpy as np\nfrom singletscalar_dm import *"
      ]
    },
    {
      "cell_type": "markdown",
      "metadata": {},
      "source": [
        "In order to calculate the annihilation cross section you can use the function: `sigmav_channels`.\nThe example below calculates the annihilation cross section for the channel `'bb'`.\n\n"
      ]
    },
    {
      "cell_type": "code",
      "execution_count": null,
      "metadata": {
        "collapsed": false
      },
      "outputs": [],
      "source": [
        "mS = 70 # GeV\nlambda_hs = 0.01\nsigmav_bb = sigmav_channels(mS,lambda_hs,'bb')\nprint(sigmav_bb)"
      ]
    },
    {
      "cell_type": "markdown",
      "metadata": {},
      "source": [
        "The possible choices for the channels are: `'cc'`, `'bb'`, `'tt'`, `'tautau'`, `'gg'`, `'ww'`, `'zz'`, `'hh'`, `'aa'`, `'za'`.\nIt is possible to specify `'tot'` to take into account all the previous channels together.\n\n"
      ]
    },
    {
      "cell_type": "code",
      "execution_count": null,
      "metadata": {
        "collapsed": false
      },
      "outputs": [],
      "source": [
        "mS = 200 # GeV\nlambda_hs = 0.01\nsigmav_tot = sigmav_channels(mS,lambda_hs,'tot')\nprint(sigmav_tot)"
      ]
    },
    {
      "cell_type": "markdown",
      "metadata": {},
      "source": [
        "This is equivalent to summing all the different channels togheter.\n\n"
      ]
    },
    {
      "cell_type": "code",
      "execution_count": null,
      "metadata": {
        "collapsed": false
      },
      "outputs": [],
      "source": [
        "mS = 200 # GeV\nlambda_hs = 0.01\nsigmav_tot = 0\nchannels_vec = np.array(['cc','bb','tt','tautau','gg','ww','zz','hh','aa','za'])\nfor t in range(len(channels_vec)):\n    sigmav_tot += sigmav_channels(mS,lambda_hs,channels_vec[t])\nprint(sigmav_tot)"
      ]
    },
    {
      "cell_type": "markdown",
      "metadata": {},
      "source": [
        "It is possible to calculate the relative contribution of the different channels to the total cross section.\n\n"
      ]
    },
    {
      "cell_type": "code",
      "execution_count": null,
      "metadata": {
        "collapsed": false
      },
      "outputs": [],
      "source": [
        "Br_cc = np.zeros(len(massz_vec))\nBr_bb = np.zeros(len(massz_vec))\nBr_tt = np.zeros(len(massz_vec))\nBr_tautau = np.zeros(len(massz_vec))\nBr_gg = np.zeros(len(massz_vec))\nBr_ww = np.zeros(len(massz_vec))\nBr_zz = np.zeros(len(massz_vec))\nBr_hh = np.zeros(len(massz_vec))\nBr_aa = np.zeros(len(massz_vec))\nBr_za = np.zeros(len(massz_vec))\nfor t in range(len(massz_vec)):\n    total_contribution = sigmav_channels(massz_vec[t],0.001,'tot')\n    Br_cc[t] = sigmav_channels(massz_vec[t],0.001,'cc')/total_contribution\n    Br_bb[t] = sigmav_channels(massz_vec[t],0.001,'bb')/total_contribution\n    Br_tt[t] = sigmav_channels(massz_vec[t],0.001,'tt')/total_contribution\n    Br_tautau[t] = sigmav_channels(massz_vec[t],0.001,'tautau')/total_contribution\n    Br_gg[t] = sigmav_channels(massz_vec[t],0.001,'gg')/total_contribution\n    Br_ww[t] = sigmav_channels(massz_vec[t],0.001,'ww')/total_contribution\n    Br_zz[t] = sigmav_channels(massz_vec[t],0.001,'zz')/total_contribution\n    Br_hh[t] = sigmav_channels(massz_vec[t],0.001,'hh')/total_contribution\n    Br_aa[t] = sigmav_channels(massz_vec[t],0.001,'aa')/total_contribution\n    Br_za[t] = sigmav_channels(massz_vec[t],0.001,'za')/total_contribution"
      ]
    },
    {
      "cell_type": "markdown",
      "metadata": {},
      "source": [
        "Which we can further plot.\n\n"
      ]
    },
    {
      "cell_type": "code",
      "execution_count": null,
      "metadata": {
        "collapsed": false
      },
      "outputs": [],
      "source": [
        "fig = plt.figure(figsize=(8,6))\nplt.plot(massz_vec,Br_cc, color='red', ls='--', lw=2.0, label=r'$c\\bar{c}$' )\nplt.plot(massz_vec,Br_bb, color='blue', ls='-.', lw=2.0, label=r'$b\\bar{b}$' )\nplt.plot(massz_vec,Br_tt, color='green', ls=':', lw=2.0, label=r'$t\\bar{t}$' )\nplt.plot(massz_vec,Br_tautau, color='black', ls='-', lw=2.0, label=r'$\\tau^+\\tau^-$' )\nplt.plot(massz_vec,Br_gg, color='brown', ls='--', lw=2.0, label=r'$gg$' )\nplt.plot(massz_vec,Br_ww, color='red', ls='-.', lw=2.0, label=r'$W^+W^-$' )\nplt.plot(massz_vec,Br_zz, color='orange', ls='-.', lw=2.0, label=r'$ZZ$' )\nplt.plot(massz_vec,Br_hh, color='brown', ls=':', lw=2.0, label=r'$hh$' )\nplt.plot(massz_vec,Br_aa, color='purple', ls=':', lw=2.0, label=r'$\\gamma\\gamma$' )\nplt.plot(massz_vec,Br_za, color='cyan', ls=':', lw=2.0, label=r'$Z\\gamma$' )\nplt.ylabel(r'$\\langle \\sigma v \\rangle_i/\\langle \\sigma v \\rangle_{\\rm{TOT}}$', fontsize=18)\nplt.xlabel(r'$m_{\\rm{S}}$ [GeV]', fontsize=18)\nplt.axis([2,1e4,1e-3,1.1])\nplt.xticks(fontsize=16)\nplt.yticks(fontsize=16)\nplt.grid(True)\nplt.yscale('log')\nplt.xscale('log') \nplt.legend(loc=4,prop={'size':14},numpoints=1, scatterpoints=1, ncol=1)\nfig.tight_layout(pad=0.5)\nplt.show()"
      ]
    }
  ],
  "metadata": {
    "kernelspec": {
      "display_name": "Python 3",
      "language": "python",
      "name": "python3"
    },
    "language_info": {
      "codemirror_mode": {
        "name": "ipython",
        "version": 3
      },
      "file_extension": ".py",
      "mimetype": "text/x-python",
      "name": "python",
      "nbconvert_exporter": "python",
      "pygments_lexer": "ipython3",
      "version": "3.7.16"
    }
  },
  "nbformat": 4,
  "nbformat_minor": 0
}