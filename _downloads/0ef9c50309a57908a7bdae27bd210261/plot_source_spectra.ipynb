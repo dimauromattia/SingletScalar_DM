{
  "cells": [
    {
      "cell_type": "markdown",
      "metadata": {},
      "source": [
        "\n# Source spectra\n\nCalculate the source spectra.\n"
      ]
    },
    {
      "cell_type": "code",
      "execution_count": null,
      "metadata": {
        "collapsed": false
      },
      "outputs": [],
      "source": [
        "import matplotlib.pyplot as plt\nimport numpy as np\nfrom singletscalar_dm import *"
      ]
    },
    {
      "cell_type": "markdown",
      "metadata": {},
      "source": [
        "You can use the function `DMspectra_inttable` to calculate the source spectrum.\nThe example below calculates the spectrum for gamma rays with smoothing.\n\n"
      ]
    },
    {
      "cell_type": "code",
      "execution_count": null,
      "metadata": {
        "collapsed": false
      },
      "outputs": [],
      "source": [
        "mS = 200 # GeV\nlambda_hs = 0.01\nlog10x,dNdlog10x = DMspectra_inttable(mS,lambda_hs,'gammas',True)\nprint(log10x,dNdlog10x)"
      ]
    },
    {
      "cell_type": "markdown",
      "metadata": {},
      "source": [
        "The following examples, instead, show the source spectra for gamma rays, positrons, antiprotons and neutrinos.\n\n"
      ]
    },
    {
      "cell_type": "code",
      "execution_count": null,
      "metadata": {
        "collapsed": false
      },
      "outputs": [],
      "source": [
        "mass_vec = np.array([3.,30.0,62.,100,400.,2000,10000])\ncolors_vec = np.array(['black','blue','green','brown','orange','purple','pink'])\nls_vec = np.array(['-','--','-.',':','-','--','-.',':','-'])"
      ]
    },
    {
      "cell_type": "code",
      "execution_count": null,
      "metadata": {
        "collapsed": false
      },
      "outputs": [],
      "source": [
        "fig = plt.figure(figsize=(8,6))\n\nfor t in range(len(mass_vec)):\n    x_vec,dNdlogx = DMspectra_inttable(mass_vec[t],0.1,'gammas',True)\n    plt.plot(x_vec,dNdlogx,lw=2.5,ls=ls_vec[t],color=colors_vec[t],label=r'$m_s=%d$ GeV'%mass_vec[t])\n\nplt.xlabel(r'$\\log_{10}(x)$', fontsize=20)\nplt.ylabel(r'$dN/d\\log_{10}(x)$', fontsize=20)\nplt.text(-7.6,15,r'$\\gamma$ rays', fontsize=20)\nplt.axis([-8,0.1,1e-4,6e1])\nplt.xticks(fontsize=20)\nplt.yticks(fontsize=20)\nplt.tick_params('both', length=8, width=3, which='major')\nplt.tick_params('both', length=6, width=3, which='minor')\nplt.grid(True)\nplt.yscale('log')\nplt.xscale('linear')\nplt.legend(loc=4,prop={'size':16},numpoints=1, scatterpoints=1, ncol=2)\nfig.tight_layout(pad=0.5)\nplt.show()"
      ]
    },
    {
      "cell_type": "code",
      "execution_count": null,
      "metadata": {
        "collapsed": false
      },
      "outputs": [],
      "source": [
        "fig = plt.figure(figsize=(8,6))\n\nfor t in range(len(mass_vec)):\n    x_vec,dNdlogx = DMspectra_inttable(mass_vec[t],0.1,'antiprotons',True)\n    plt.plot(x_vec,dNdlogx,lw=2.5,ls=ls_vec[t],color=colors_vec[t],label=r'$m_s=%d$ GeV'%mass_vec[t])\n\nplt.xlabel(r'$\\log_{10}(x)$', fontsize=20)\nplt.ylabel(r'$dN/d\\log_{10}(x)$', fontsize=20)\nplt.text(-1.9,3e-4,r'$\\bar{p}$', fontsize=20)\nplt.axis([-6,0.1,1e-4,5e0])\nplt.xticks(fontsize=20)\nplt.yticks(fontsize=20)\nplt.tick_params('both', length=8, width=3, which='major')\nplt.tick_params('both', length=6, width=3, which='minor')\nplt.grid(True)\nplt.yscale('log')\nplt.xscale('linear')\nplt.legend(loc=2,prop={'size':16},numpoints=1, scatterpoints=1, ncol=1)\nfig.tight_layout(pad=0.5)\nplt.show()"
      ]
    },
    {
      "cell_type": "code",
      "execution_count": null,
      "metadata": {
        "collapsed": false
      },
      "outputs": [],
      "source": [
        "fig = plt.figure(figsize=(8,6))\n\nfor t in range(len(mass_vec)):\n    x_vec,dNdlogx = DMspectra_inttable(mass_vec[t],0.1,'positrons',True)\n    plt.plot(x_vec,dNdlogx,lw=2.5,ls=ls_vec[t],color=colors_vec[t],label=r'$m_s=%d$ GeV'%mass_vec[t])\n\nplt.xlabel(r'$\\log_{10}(x)$', fontsize=20)\nplt.ylabel(r'$dN/d\\log_{10}(x)$', fontsize=20)\nplt.text(-7.6,3,r'$\\gamma$ rays', fontsize=20)\nplt.axis([-8,0.1,1e-4,2e1])\nplt.xticks(fontsize=20)\nplt.yticks(fontsize=20)\nplt.tick_params('both', length=8, width=3, which='major')\nplt.tick_params('both', length=6, width=3, which='minor')\nplt.grid(True)\nplt.yscale('log')\nplt.xscale('linear')\nplt.legend(loc=4,prop={'size':16},numpoints=1, scatterpoints=1, ncol=1)\nfig.tight_layout(pad=0.5)\nplt.show()"
      ]
    },
    {
      "cell_type": "code",
      "execution_count": null,
      "metadata": {
        "collapsed": false
      },
      "outputs": [],
      "source": [
        "fig = plt.figure(figsize=(8,6))\n\nfor t in range(len(mass_vec)):\n    x_vec,dNdlogx_ne = DMspectra_inttable(mass_vec[t],0.1,'neutrinos_e',True)\n    x_vec,dNdlogx_nmu = DMspectra_inttable(mass_vec[t],0.1,'neutrinos_mu',True)\n    x_vec,dNdlogx_ntau = DMspectra_inttable(mass_vec[t],0.1,'neutrinos_tau',True)\n    plt.plot(x_vec,dNdlogx_ne+dNdlogx_nmu+dNdlogx_ntau,lw=2.5,ls=ls_vec[t],color=colors_vec[t],label=r'$m_s=%d$'%mass_vec[t])\n\nplt.xlabel(r'$\\log_{10}(x)$', fontsize=20)\nplt.ylabel(r'$dN/d\\log_{10}(x)$', fontsize=20)\nplt.text(-7.6,15,r'$\\gamma$ rays', fontsize=20)\nplt.axis([-8,0.1,1e-3,1e2])\nplt.xticks(fontsize=20)\nplt.yticks(fontsize=20)\nplt.tick_params('both', length=8, width=3, which='major')\nplt.tick_params('both', length=6, width=3, which='minor')\nplt.grid(True)\nplt.yscale('log')\nplt.xscale('linear')\nplt.legend(loc=4,prop={'size':16},numpoints=1, scatterpoints=1, ncol=1)\nfig.tight_layout(pad=0.5)\nplt.show()"
      ]
    }
  ],
  "metadata": {
    "kernelspec": {
      "display_name": "Python 3",
      "language": "python",
      "name": "python3"
    },
    "language_info": {
      "codemirror_mode": {
        "name": "ipython",
        "version": 3
      },
      "file_extension": ".py",
      "mimetype": "text/x-python",
      "name": "python",
      "nbconvert_exporter": "python",
      "pygments_lexer": "ipython3",
      "version": "3.7.16"
    }
  },
  "nbformat": 4,
  "nbformat_minor": 0
}