{
  "cells": [
    {
      "cell_type": "markdown",
      "metadata": {},
      "source": [
        "\n# Indirect detection\n\nThis example studies the likelihoods for different indirect detection searches.\n"
      ]
    },
    {
      "cell_type": "code",
      "execution_count": null,
      "metadata": {
        "collapsed": false
      },
      "outputs": [],
      "source": [
        "import matplotlib.pyplot as plt\nimport numpy as np\nfrom scipy.interpolate import interp2d\nfrom singletscalar_dm import *\n\ntable_int = np.loadtxt(import_data_file('SHP_sigmav_table.dat'))"
      ]
    },
    {
      "cell_type": "markdown",
      "metadata": {},
      "source": [
        "Here we define the vectors for the annihilation cross section, mass and lambda_hs\n\n"
      ]
    },
    {
      "cell_type": "code",
      "execution_count": null,
      "metadata": {
        "collapsed": false
      },
      "outputs": [],
      "source": [
        "sigmav_vec = np.power(10.,np.arange(-29.,-20.96,0.04))\nmass_vec = massz_vec[19:224]\nlambdap_vec = np.power(10.,np.arange(-6.,0.,0.04))"
      ]
    },
    {
      "cell_type": "markdown",
      "metadata": {},
      "source": [
        "Here we create the likelihood profile for dwarf.\n\n"
      ]
    },
    {
      "cell_type": "code",
      "execution_count": null,
      "metadata": {
        "collapsed": false
      },
      "outputs": [],
      "source": [
        "table_dwarf = np.loadtxt(import_data_file('LogLike_stacked_paper_SHP.dat'))\nLogLike_table_dwarf = np.zeros(shape=(len(sigmav_vec),len(mass_vec)))\nfor t in range(len(mass_vec)):\n    for u in range(len(sigmav_vec)):\n        LogLike_table_dwarf[u,t] = -2.*table_dwarf[t*len(sigmav_vec)+u,3]\nfuncint_dwarf = interp2d(mass_vec,sigmav_vec,LogLike_table_dwarf)\n\nLogLikel_table_dwarf = np.zeros(shape=(len(lambdap_vec),len(mass_vec)))\nfor t in range(len(mass_vec)):\n    for u in range(len(lambdap_vec)):\n        sigmav_val = lambda2sigmav(mass_vec[t],lambdap_vec[u],table_int)\n        LogLikel_table_dwarf[u,t] = funcint_dwarf(mass_vec[t],sigmav_val)"
      ]
    },
    {
      "cell_type": "markdown",
      "metadata": {},
      "source": [
        "Here we create the likelihood profile for dwarf.\n\n"
      ]
    },
    {
      "cell_type": "code",
      "execution_count": null,
      "metadata": {
        "collapsed": false
      },
      "outputs": [],
      "source": [
        "table_pbar = np.loadtxt(import_data_file('LogLike_Manconi2021_pbar_paper.dat'))\nLogLike_table_pbar = np.zeros(shape=(len(sigmav_vec),len(mass_vec)))\nfor t in range(len(mass_vec)):\n    for u in range(len(sigmav_vec)):\n        LogLike_table_pbar[u,t] = table_pbar[t*len(sigmav_vec)+u,2]\nfuncint_pbar = interp2d(mass_vec,sigmav_vec,LogLike_table_pbar)\n\nLogLikel_table_pbar = np.zeros(shape=(len(lambdap_vec),len(mass_vec)))\nfor t in range(len(mass_vec)):\n    for u in range(len(lambdap_vec)):\n        sigmav_val = lambda2sigmav(mass_vec[t],lambdap_vec[u],table_int)\n        LogLikel_table_pbar[u,t] = funcint_pbar(mass_vec[t],sigmav_val)"
      ]
    },
    {
      "cell_type": "markdown",
      "metadata": {},
      "source": [
        "Here we consider the $\\chi^2$ for the GCE, relative to the MED model.\n\n"
      ]
    },
    {
      "cell_type": "code",
      "execution_count": null,
      "metadata": {
        "collapsed": false
      },
      "outputs": [],
      "source": [
        "table_gce = np.loadtxt(import_data_file('Chi_table_Cholis_GCE_MED_paper.dat'))\nLogLike_table_gce = np.zeros(shape=(len(sigmav_vec),len(mass_vec)))\nfor t in range(len(mass_vec)):\n    for u in range(len(sigmav_vec)):\n        LogLike_table_gce[u,t] = -table_gce[t*len(sigmav_vec)+u,2]\nfuncint_gce = interp2d(mass_vec,sigmav_vec,LogLike_table_gce)\n\nLogLikel_table_gce = np.zeros(shape=(len(lambdap_vec),len(mass_vec)))\nfor t in range(len(mass_vec)):\n    for u in range(len(lambdap_vec)):\n        sigmav_val = lambda2sigmav(mass_vec[t],lambdap_vec[u],table_int)\n        LogLikel_table_gce[u,t] = funcint_gce(mass_vec[t],sigmav_val)"
      ]
    },
    {
      "cell_type": "markdown",
      "metadata": {},
      "source": [
        "Further, we combine the likelihoods.\n\n"
      ]
    },
    {
      "cell_type": "code",
      "execution_count": null,
      "metadata": {
        "collapsed": false
      },
      "outputs": [],
      "source": [
        "LogLike_table_combined = LogLike_table_gce+LogLike_table_pbar+LogLike_table_dwarf\nLogLikel_table_combined = LogLikel_table_gce+LogLikel_table_pbar+LogLikel_table_dwarf"
      ]
    },
    {
      "cell_type": "markdown",
      "metadata": {},
      "source": [
        "And we plot the results.\n\n"
      ]
    },
    {
      "cell_type": "code",
      "execution_count": null,
      "metadata": {
        "collapsed": false
      },
      "outputs": [],
      "source": [
        "fig, ax = plt.subplots(figsize=(8,6))\n\ndlin = ( 80+2 )/30.\nscale_vec = np.arange( -80,2, dlin )\nscale_cb = np.arange( -80,2, dlin*10.)\n\ncf = ax.contourf(mass_vec, lambdap_vec, LogLikel_table_combined-LogLikel_table_combined.max(), 30, levels=list(scale_vec), cmap='seismic')\ncbar = fig.colorbar(cf, ax = ax)\ncbar.ax.set_ylabel(r'$-\\Delta\\chi^2$ Combined AstroP', fontsize=\"large\")\n\nplt.ylabel(r'$\\lambda_{HS}$', fontsize=18)\nplt.xlabel(r'$m_{S}$ [GeV]', fontsize=18)\nplt.axis([35.,90,1e-4,1.0])\nplt.xticks(fontsize=16)\nplt.yticks(fontsize=16)\nplt.grid(True)\nplt.yscale('log')\nplt.xscale('linear') \nfig.tight_layout(pad=0.5)\nplt.show()"
      ]
    },
    {
      "cell_type": "code",
      "execution_count": null,
      "metadata": {
        "collapsed": false
      },
      "outputs": [],
      "source": [
        "fig, ax = plt.subplots(figsize=(8,6))\n\ndlin = ( 80+2 )/30.\nscale_vec = np.arange( -80,2, dlin )\nscale_cb = np.arange( -80,2, dlin*10.)\n\ncf = ax.contourf(mass_vec-62.50, lambdap_vec, LogLikel_table_combined-LogLikel_table_combined.max(), 30, levels=list(scale_vec), cmap='seismic')\ncbar = fig.colorbar(cf, ax = ax)\ncbar.ax.set_ylabel(r'$-\\Delta\\chi^2$ Combined AstroP', fontsize=\"large\")\n\nplt.text(0.11,2e-5,'MED', fontsize=18)\nplt.ylabel(r'$\\lambda_{HS}$', fontsize=18)\nplt.xlabel(r'$m_{S}-m_h/2$ [GeV]', fontsize=18)\nplt.axis([-0.2,0.2,1e-5,0.005])\nplt.xticks(fontsize=16)\nplt.yticks(fontsize=16)\nplt.grid(True)\nplt.yscale('log')\nplt.xscale('linear') \nfig.tight_layout(pad=0.5)\nplt.show()"
      ]
    },
    {
      "cell_type": "markdown",
      "metadata": {},
      "source": [
        "Here we create the likelihood profile for antiprotons from Balan et al. 2023.\n\n"
      ]
    },
    {
      "cell_type": "code",
      "execution_count": null,
      "metadata": {
        "collapsed": false
      },
      "outputs": [],
      "source": [
        "table_pbar = np.loadtxt(import_data_file('LogLike_sigmav_Manconi2023_model1_corr_pbar_paper.dat'))\nLogLike_table_pbar = np.zeros(shape=(len(sigmav_vec),len(mass_vec)))\nfor t in range(len(mass_vec)):\n    for u in range(len(sigmav_vec)):\n        LogLike_table_pbar[u,t] = table_pbar[t*len(sigmav_vec)+u,2]\nfuncint_pbar = interp2d(mass_vec,sigmav_vec,LogLike_table_pbar)\n\nLogLikel_table_pbar = np.zeros(shape=(len(lambdap_vec),len(mass_vec)))\nfor t in range(len(mass_vec)):\n    for u in range(len(lambdap_vec)):\n        sigmav_val = lambda2sigmav(mass_vec[t],lambdap_vec[u],table_int)\n        LogLikel_table_pbar[u,t] = funcint_pbar(mass_vec[t],sigmav_val)"
      ]
    },
    {
      "cell_type": "markdown",
      "metadata": {},
      "source": [
        "We then combine the likelihoods.\n\n"
      ]
    },
    {
      "cell_type": "code",
      "execution_count": null,
      "metadata": {
        "collapsed": false
      },
      "outputs": [],
      "source": [
        "LogLike_table_combined = LogLike_table_gce+LogLike_table_pbar+LogLike_table_dwarf\nLogLikel_table_combined = LogLikel_table_gce+LogLikel_table_pbar+LogLikel_table_dwarf"
      ]
    },
    {
      "cell_type": "markdown",
      "metadata": {},
      "source": [
        "And we plot the results.\n\n"
      ]
    },
    {
      "cell_type": "code",
      "execution_count": null,
      "metadata": {
        "collapsed": false
      },
      "outputs": [],
      "source": [
        "fig, ax = plt.subplots(figsize=(8,6))\n\ndlin = ( 80+2 )/30.\nscale_vec = np.arange( -80,2, dlin )\nscale_cb = np.arange( -80,2, dlin*10.)\n\ncf = ax.contourf(mass_vec, lambdap_vec, LogLikel_table_combined-LogLikel_table_combined.max(), 30, levels=list(scale_vec), cmap='seismic')\ncbar = fig.colorbar(cf, ax = ax)\ncbar.ax.set_ylabel(r'$-\\Delta\\chi^2$ Combined AstroP', fontsize=\"large\")\n\nplt.ylabel(r'$\\lambda_{HS}$', fontsize=18)\nplt.xlabel(r'$m_{S}$ [GeV]', fontsize=18)\nplt.axis([35.,90,1e-4,1.0])\nplt.xticks(fontsize=16)\nplt.yticks(fontsize=16)\nplt.grid(True)\nplt.yscale('log')\nplt.xscale('linear') \nfig.tight_layout(pad=0.5)\nplt.show()"
      ]
    }
  ],
  "metadata": {
    "kernelspec": {
      "display_name": "Python 3",
      "language": "python",
      "name": "python3"
    },
    "language_info": {
      "codemirror_mode": {
        "name": "ipython",
        "version": 3
      },
      "file_extension": ".py",
      "mimetype": "text/x-python",
      "name": "python",
      "nbconvert_exporter": "python",
      "pygments_lexer": "ipython3",
      "version": "3.7.16"
    }
  },
  "nbformat": 4,
  "nbformat_minor": 0
}