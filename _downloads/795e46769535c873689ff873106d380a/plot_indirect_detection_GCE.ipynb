{
  "cells": [
    {
      "cell_type": "markdown",
      "metadata": {},
      "source": [
        "\n# Indirect detection calculation for GCE\n\nThis script calculates the gamma-ray flux for the Galactic center excess.\n"
      ]
    },
    {
      "cell_type": "code",
      "execution_count": null,
      "metadata": {
        "collapsed": false
      },
      "outputs": [],
      "source": [
        "import matplotlib.pyplot as plt\nimport numpy as np\nfrom singletscalar_dm import *\nfrom scipy.interpolate import interp1d"
      ]
    },
    {
      "cell_type": "markdown",
      "metadata": {},
      "source": [
        "In order to calculate the relic density it is possible to use the function `interpolate_Omega`, which uses the code DRAKE near the Higgs resonance and MicrOMEGAs elsewhere.\nFor examplte, let's compute the relic density, expressed as $\\Omega h^2$ for the QCDA model.\n\n"
      ]
    },
    {
      "cell_type": "code",
      "execution_count": null,
      "metadata": {
        "collapsed": false
      },
      "outputs": [],
      "source": [
        "table_best  = np.loadtxt(import_data_file('GCE_BestFitModel_flux_Inner40x40_masked_disk.dat'))\ntable_up  = np.loadtxt(import_data_file('GCE_band_up.dat'))\ntable_down  = np.loadtxt(import_data_file('GCE_band_down.dat'))\nfunc_min = interp1d(table_down[:,0],table_down[:,1])\nfunc_max = interp1d(table_up[:,0],table_up[:,1])\nenergy_C_vec = np.logspace(np.log10(0.315),np.log10(34.0),100)\nenergy_Cerr_vec = table_best[:,0]\nflux_C_min = func_min(energy_C_vec)\nflux_C_max = func_max(energy_C_vec)\nflux_Cerr_min = func_min(energy_Cerr_vec)\nflux_Cerr_max = func_max(energy_Cerr_vec)\nflux_av = table_best[:,1]\n\nDMmass=62.485\nlambda_hs=2e-4\nenergy_vec = np.logspace(-1.,2.,100)\nflux_DM = np.zeros(len(energy_vec))\nfor i in range(len(energy_vec)):\n    flux_DM[i] = flux_DM_prompt(energy_vec[i],DMmass,lambda_hs,False)"
      ]
    },
    {
      "cell_type": "markdown",
      "metadata": {},
      "source": [
        "Now we create the plot.\n\n"
      ]
    },
    {
      "cell_type": "code",
      "execution_count": null,
      "metadata": {
        "collapsed": false
      },
      "outputs": [],
      "source": [
        "fig = plt.figure(figsize=(8,6))\nplt.plot(energy_vec,flux_DM*np.power(energy_vec,2.), lw=5.0, ls='--', color='blue', label=r'SHP model')\nplt.fill_between(energy_C_vec,flux_C_min,flux_C_max,alpha=0.5,color=\"grey\")\nplt.errorbar(table_best[:,0], table_best[:,1], yerr=[table_best[:,1]-table_best[:,2],table_best[:,3]-table_best[:,1]], fmt='*', color='black',label=r'Cholis+2022')\nplt.ylabel(r'$E^2 \\frac{dN}{dE}$ [GeV/cm$^2$/s/sr]', fontsize=18)\nplt.xlabel(r'$E$ [GeV]', fontsize=18)\nplt.axis([0.1,100,8.e-8,3e-6])\nplt.xticks(fontsize=18)\nplt.yticks(fontsize=18)\nplt.tick_params('both', length=7, width=2, which='major')\nplt.tick_params('both', length=5, width=2, which='minor')\nplt.grid(True)\nplt.yscale('log')\nplt.xscale('log')\nplt.legend(loc=2,prop={'size':16},numpoints=1, scatterpoints=1, ncol=1)\nfig.tight_layout(pad=0.5)\nplt.show()"
      ]
    }
  ],
  "metadata": {
    "kernelspec": {
      "display_name": "Python 3",
      "language": "python",
      "name": "python3"
    },
    "language_info": {
      "codemirror_mode": {
        "name": "ipython",
        "version": 3
      },
      "file_extension": ".py",
      "mimetype": "text/x-python",
      "name": "python",
      "nbconvert_exporter": "python",
      "pygments_lexer": "ipython3",
      "version": "3.7.16"
    }
  },
  "nbformat": 4,
  "nbformat_minor": 0
}